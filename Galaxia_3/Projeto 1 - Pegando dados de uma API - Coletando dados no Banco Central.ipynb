{
 "cells": [
  {
   "cell_type": "markdown",
   "id": "9f72af31",
   "metadata": {},
   "source": [
    "# Projeto 1: Pegando dados da API do Banco Central\n",
    "\n",
    "---------\n",
    "\n",
    "## O que são APIs? \n",
    "\n",
    "* Formas de conectar sistemas.\n",
    "* Seu código - banco de dados do Banco Central.\n",
    "* Seu navegador - Servidor da globo e banco de dados de nóticias.\n",
    "\n",
    "\n",
    "### A comunicação se dá através de métodos:\n",
    "\n",
    "* GET\n",
    "* POST\n",
    "\n",
    "Geralmente utilizamos a biblioteca requests."
   ]
  },
  {
   "cell_type": "code",
   "execution_count": null,
   "id": "1127c81b",
   "metadata": {},
   "outputs": [],
   "source": [
    "import requests\n",
    "import pandas as pd"
   ]
  },
  {
   "cell_type": "code",
   "execution_count": null,
   "id": "36cc683a",
   "metadata": {},
   "outputs": [],
   "source": [
    "info_google = requests.get(\"https://www.google.com.br/\") #não pode faltar o \"https\"\n",
    "\n",
    "print(info_google)"
   ]
  },
  {
   "attachments": {
    "image.png": {
     "image/png": "[encoded data removed]"
    }
   },
   "cell_type": "markdown",
   "id": "441c0abe",
   "metadata": {},
   "source": [
    "### Respostas de um servidor\n",
    "\n",
    "![image.png](attachment:image.png)"
   ]
  },
  {
   "cell_type": "markdown",
   "id": "fca6c628",
   "metadata": {},
   "source": [
    "## API Banco Central\n",
    "\n",
    "### A melhor forma de aprender sobre uma API é SEMPRE na documentação oficial.\n",
    "\n",
    "O cara que criou se deu o trabalho de criar um texto explicando tudo nos mínimos detalhes para que a criação dele se torne útil. Valorize isso. \n",
    "\n",
    "Documentação Banco Central: https://dadosabertos.bcb.gov.br/organization/depec\n",
    "\n",
    "Link útil pra aula: https://api.bcb.gov.br/dados/serie/bcdata.sgs.{codigo}/dados?formato=json\n",
    "\n",
    "Localização dos códigos: https://www3.bcb.gov.br/sgspub/localizarseries/localizarSeries.do?method=prepararTelaLocalizarSeries\n",
    "\n"
   ]
  },
  {
   "cell_type": "code",
   "execution_count": null,
   "id": "bcf27f82",
   "metadata": {},
   "outputs": [],
   "source": [
    "#selic = 432\n",
    "#ipca = 433\n",
    "#PTAX (dólar) = 1\n",
    "\n",
    "codigo = 432\n",
    "\n",
    "url_banco_central = f'https://api.bcb.gov.br/dados/serie/bcdata.sgs.{codigo}/dados?formato=json'"
   ]
  },
  {
   "cell_type": "code",
   "execution_count": null,
   "id": "a64685d9",
   "metadata": {},
   "outputs": [],
   "source": [
    "dados_selic = requests.get(url_banco_central)"
   ]
  },
  {
   "cell_type": "markdown",
   "id": "6919b43d",
   "metadata": {},
   "source": [
    "### Json é uma estrutura de dados igual aos dicionários no Python.\n",
    "\n",
    "Chave - Valor"
   ]
  },
  {
   "cell_type": "code",
   "execution_count": null,
   "id": "407e2624",
   "metadata": {},
   "outputs": [],
   "source": [
    "json_selic = dados_selic.json()"
   ]
  },
  {
   "cell_type": "code",
   "execution_count": null,
   "id": "7a2c503a",
   "metadata": {},
   "outputs": [],
   "source": [
    "df = pd.DataFrame(json_selic)\n",
    "df"
   ]
  },
  {
   "cell_type": "code",
   "execution_count": null,
   "id": "c06600cf",
   "metadata": {},
   "outputs": [],
   "source": [
    "df['data'] = pd.to_datetime(df['data'], format = '%d/%m/%Y')"
   ]
  },
  {
   "cell_type": "code",
   "execution_count": null,
   "id": "2bbc521b",
   "metadata": {},
   "outputs": [],
   "source": [
    "df = df.set_index('data')"
   ]
  },
  {
   "cell_type": "code",
   "execution_count": null,
   "id": "5c649af2",
   "metadata": {},
   "outputs": [],
   "source": [
    "df['valor'] = df['valor'].astype(float)"
   ]
  },
  {
   "cell_type": "code",
   "execution_count": null,
   "id": "ad6f2e37",
   "metadata": {},
   "outputs": [],
   "source": [
    "df = df.resample(\"M\").last() #reorganizando os dados pra outra periodicidade."
   ]
  },
  {
   "cell_type": "code",
   "execution_count": null,
   "id": "4fbc9ab8",
   "metadata": {},
   "outputs": [],
   "source": [
    "df.plot()"
   ]
  },
  {
   "cell_type": "code",
   "execution_count": null,
   "id": "f9560bf3",
   "metadata": {},
   "outputs": [],
   "source": []
  },
  {
   "cell_type": "code",
   "execution_count": null,
   "id": "59755ca8",
   "metadata": {},
   "outputs": [],
   "source": []
  },
  {
   "cell_type": "code",
   "execution_count": null,
   "id": "ea8ab00f",
   "metadata": {},
   "outputs": [],
   "source": []
  },
  {
   "cell_type": "code",
   "execution_count": null,
   "id": "fbcb53cd",
   "metadata": {},
   "outputs": [],
   "source": []
  },
  {
   "cell_type": "code",
   "execution_count": null,
   "id": "97ad1b05",
   "metadata": {},
   "outputs": [],
   "source": []
  }
 ],
 "metadata": {
  "kernelspec": {
   "display_name": "Python 3 (ipykernel)",
   "language": "python",
   "name": "python3"
  },
  "language_info": {
   "codemirror_mode": {
    "name": "ipython",
    "version": 3
   },
   "file_extension": ".py",
   "mimetype": "text/x-python",
   "name": "python",
   "nbconvert_exporter": "python",
   "pygments_lexer": "ipython3",
   "version": "3.11.3"
  }
 },
 "nbformat": 4,
 "nbformat_minor": 5
}
