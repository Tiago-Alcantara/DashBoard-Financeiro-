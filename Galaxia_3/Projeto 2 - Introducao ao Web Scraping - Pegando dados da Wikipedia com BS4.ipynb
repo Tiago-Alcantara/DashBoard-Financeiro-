{
 "cells": [
  {
   "cell_type": "markdown",
   "id": "123e00f2",
   "metadata": {},
   "source": [
    "# Projeto 2 - Introducao ao Web Scraping - Pegando dados da Wikipedia com BS4\n",
    "\n",
    "\n",
    "## O que é Web Scraping?\n",
    "\n",
    "* Pegar dados em sites.\n",
    "* BS4 ou Selenium.\n",
    "\n",
    "## Como funcionam sites?\n",
    "\n",
    "* HTML\n",
    "* JavaScript\n",
    "* CSS"
   ]
  },
  {
   "cell_type": "code",
   "execution_count": null,
   "id": "f8b1996b",
   "metadata": {},
   "outputs": [],
   "source": [
    "import requests \n",
    "from bs4 import BeautifulSoup\n",
    "from pprint import pprint\n",
    "import pandas as pd"
   ]
  },
  {
   "cell_type": "code",
   "execution_count": null,
   "id": "56b21b43",
   "metadata": {},
   "outputs": [],
   "source": [
    "response = requests.get('''\n",
    "https://pt.wikipedia.org/wiki/Popula%C3%A7%C3%A3o_mundial''')\n",
    "\n",
    "pprint(response.text)"
   ]
  },
  {
   "cell_type": "code",
   "execution_count": null,
   "id": "a7f1e7ec",
   "metadata": {},
   "outputs": [],
   "source": [
    "response = requests.get('''\n",
    "https://pt.wikipedia.org/wiki/Popula%C3%A7%C3%A3o_mundial''') #vai carregar a pagina\n",
    "\n",
    "soup = BeautifulSoup(response.text, 'html.parser') #transformar o html da pagina em um objeto do soup\n",
    "\n",
    "tabela = soup.find(\"table\") #achar o que você precisa. acabou. \n",
    "\n",
    "tabela"
   ]
  },
  {
   "cell_type": "code",
   "execution_count": null,
   "id": "977ad455",
   "metadata": {},
   "outputs": [],
   "source": [
    "df = pd.read_html(str(tabela))[0]#n pode esquecer do STR!! \n",
    "\n",
    "display(df)\n",
    "#sempre utilizaremos o pandas pra pegar dados de tabelas"
   ]
  },
  {
   "cell_type": "code",
   "execution_count": null,
   "id": "137eea8f",
   "metadata": {},
   "outputs": [],
   "source": []
  },
  {
   "cell_type": "code",
   "execution_count": null,
   "id": "47b6e38b",
   "metadata": {},
   "outputs": [],
   "source": []
  },
  {
   "cell_type": "code",
   "execution_count": null,
   "id": "315a9c54",
   "metadata": {},
   "outputs": [],
   "source": []
  },
  {
   "cell_type": "code",
   "execution_count": null,
   "id": "5f44aa98",
   "metadata": {},
   "outputs": [],
   "source": []
  },
  {
   "cell_type": "code",
   "execution_count": null,
   "id": "10ecf460",
   "metadata": {},
   "outputs": [],
   "source": []
  },
  {
   "cell_type": "code",
   "execution_count": null,
   "id": "0db1c5c2",
   "metadata": {},
   "outputs": [],
   "source": []
  },
  {
   "cell_type": "code",
   "execution_count": null,
   "id": "48b22c62",
   "metadata": {},
   "outputs": [],
   "source": []
  },
  {
   "cell_type": "code",
   "execution_count": null,
   "id": "51836a96",
   "metadata": {},
   "outputs": [],
   "source": []
  },
  {
   "cell_type": "code",
   "execution_count": null,
   "id": "de9c5f3b",
   "metadata": {},
   "outputs": [],
   "source": []
  },
  {
   "cell_type": "code",
   "execution_count": null,
   "id": "be3b9421",
   "metadata": {},
   "outputs": [],
   "source": []
  },
  {
   "cell_type": "code",
   "execution_count": null,
   "id": "919e656b",
   "metadata": {},
   "outputs": [],
   "source": []
  },
  {
   "cell_type": "code",
   "execution_count": null,
   "id": "35315495",
   "metadata": {},
   "outputs": [],
   "source": []
  },
  {
   "cell_type": "code",
   "execution_count": null,
   "id": "1953e1e0",
   "metadata": {},
   "outputs": [],
   "source": []
  },
  {
   "cell_type": "code",
   "execution_count": null,
   "id": "c7dea5c6",
   "metadata": {},
   "outputs": [],
   "source": []
  }
 ],
 "metadata": {
  "kernelspec": {
   "display_name": "Python 3 (ipykernel)",
   "language": "python",
   "name": "python3"
  },
  "language_info": {
   "codemirror_mode": {
    "name": "ipython",
    "version": 3
   },
   "file_extension": ".py",
   "mimetype": "text/x-python",
   "name": "python",
   "nbconvert_exporter": "python",
   "pygments_lexer": "ipython3",
   "version": "3.11.3"
  }
 },
 "nbformat": 4,
 "nbformat_minor": 5
}
