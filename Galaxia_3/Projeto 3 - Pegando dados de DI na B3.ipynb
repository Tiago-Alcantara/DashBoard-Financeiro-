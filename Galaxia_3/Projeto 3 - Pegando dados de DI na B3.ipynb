{
 "cells": [
  {
   "cell_type": "markdown",
   "id": "1c46def5",
   "metadata": {},
   "source": [
    "# Projeto 3 - Pegando dados de DI da B3\n",
    "\n",
    "### Selenium\n",
    "\n",
    "* O Selenium simula uma pessoa em um navegador.\n",
    "* Cliques, logins, digitações.."
   ]
  },
  {
   "cell_type": "code",
   "execution_count": null,
   "id": "db44d216",
   "metadata": {},
   "outputs": [],
   "source": [
    "import pandas as pd\n",
    "from selenium import webdriver\n",
    "from selenium.webdriver.chrome.service import Service\n",
    "from webdriver_manager.chrome import ChromeDriverManager\n",
    "from selenium.webdriver.chrome.options import Options\n",
    "import time \n",
    "from datetime import datetime\n",
    "from datetime import date"
   ]
  },
  {
   "cell_type": "code",
   "execution_count": null,
   "id": "1b9909fd",
   "metadata": {},
   "outputs": [],
   "source": [
    "#options = Options()\n",
    "#options.headless = True\n",
    "\n",
    "driver = webdriver.Chrome(service=Service(ChromeDriverManager().install())) #driver da sua versão"
   ]
  },
  {
   "cell_type": "code",
   "execution_count": null,
   "id": "26364fc3",
   "metadata": {},
   "outputs": [],
   "source": [
    "driver.get('https://www.google.com.br')"
   ]
  },
  {
   "cell_type": "code",
   "execution_count": null,
   "id": "7a0a533c",
   "metadata": {},
   "outputs": [],
   "source": [
    "data_di = date(2023, 10, 19)"
   ]
  },
  {
   "cell_type": "code",
   "execution_count": null,
   "id": "e445f9c3",
   "metadata": {},
   "outputs": [],
   "source": [
    "data_di = data_di.strftime(\"%d/%m/%Y\")\n",
    "\n",
    "url = f'''https://www2.bmf.com.br/pages/portal/bmfbovespa/boletim1/SistemaPregao1.asp?\n",
    "pagetype=pop&caminho=Resumo%20Estat%EDstico%20-%20Sistema%20Preg%E3o&Data={data_di}\n",
    "&Mercadoria=DI1'''"
   ]
  },
  {
   "cell_type": "code",
   "execution_count": null,
   "id": "6821c4a5",
   "metadata": {},
   "outputs": [],
   "source": [
    "driver.get(url)"
   ]
  },
  {
   "cell_type": "markdown",
   "id": "1395942e",
   "metadata": {},
   "source": [
    "### Pra achar elementos você deve inspecionar o site."
   ]
  },
  {
   "cell_type": "code",
   "execution_count": null,
   "id": "09032ae9",
   "metadata": {},
   "outputs": [],
   "source": [
    "local_tabela = '''/html/body/div/div[2]/form[1]/table[3]/tbody/tr[3]/td[3]/table'''\n",
    "local_indice = '''/html/body/div/div[2]/form[1]/table[3]/tbody/tr[3]/td[1]/table'''        "
   ]
  },
  {
   "cell_type": "code",
   "execution_count": null,
   "id": "5a108efa",
   "metadata": {},
   "outputs": [],
   "source": [
    "elemento = driver.find_element(\"xpath\", local_tabela)\n",
    "elemento_indice = driver.find_element(\"xpath\", local_indice)"
   ]
  },
  {
   "cell_type": "code",
   "execution_count": null,
   "id": "0172aea3",
   "metadata": {},
   "outputs": [],
   "source": [
    "html_tabela = elemento.get_attribute('outerHTML')\n",
    "html_indice = elemento_indice.get_attribute('outerHTML')"
   ]
  },
  {
   "cell_type": "code",
   "execution_count": null,
   "id": "8f9342dc",
   "metadata": {},
   "outputs": [],
   "source": [
    "tabela = pd.read_html(html_tabela)[0]\n",
    "indice = pd.read_html(html_indice)[0]"
   ]
  },
  {
   "cell_type": "code",
   "execution_count": null,
   "id": "da648ba2",
   "metadata": {},
   "outputs": [],
   "source": [
    "driver.quit()"
   ]
  },
  {
   "cell_type": "markdown",
   "id": "31e9eb3c",
   "metadata": {},
   "source": [
    "### Agora vamos tratar os dados.."
   ]
  },
  {
   "cell_type": "code",
   "execution_count": null,
   "id": "44d91f83",
   "metadata": {},
   "outputs": [],
   "source": [
    "legenda = pd.Series(['Jan', 'Feb', 'Mar', 'Apr', 'May', 'Jun', 'Jul', 'Aug', 'Sep', 'Oct', 'Nov', 'Dec'],\n",
    "                        index = ['F', 'G', 'H', 'J', 'K', 'M', 'N', 'Q', 'U', 'V', 'X', 'Z'])"
   ]
  },
  {
   "cell_type": "code",
   "execution_count": null,
   "id": "929a42cd",
   "metadata": {},
   "outputs": [],
   "source": [
    "tabela"
   ]
  },
  {
   "cell_type": "code",
   "execution_count": null,
   "id": "cf6c05eb",
   "metadata": {},
   "outputs": [],
   "source": [
    "tabela.columns = tabela.loc[0]"
   ]
  },
  {
   "cell_type": "code",
   "execution_count": null,
   "id": "ea9ca173",
   "metadata": {},
   "outputs": [],
   "source": [
    "tabela = tabela['ÚLT. PREÇO']\n",
    "tabela = tabela.drop(0, axis = 0)\n",
    "tabela"
   ]
  },
  {
   "cell_type": "code",
   "execution_count": null,
   "id": "c68c9798",
   "metadata": {
    "scrolled": true
   },
   "outputs": [],
   "source": [
    "indice.columns = indice.loc[0]\n",
    "indice = indice.drop(0, axis = 0)"
   ]
  },
  {
   "cell_type": "code",
   "execution_count": null,
   "id": "fc4c44be",
   "metadata": {},
   "outputs": [],
   "source": [
    "tabela.index = indice['VENCTO']\n",
    "tabela"
   ]
  },
  {
   "cell_type": "code",
   "execution_count": null,
   "id": "836c6e79",
   "metadata": {},
   "outputs": [],
   "source": [
    "tabela = tabela.astype(int)\n",
    "tabela = tabela[tabela != 0]\n",
    "tabela = tabela/1000\n",
    "tabela"
   ]
  },
  {
   "cell_type": "code",
   "execution_count": 33,
   "id": "93b302b0",
   "metadata": {},
   "outputs": [
    {
     "data": {
      "text/plain": [
       "2023-11-01    0.12656\n",
       "2023-12-01    0.12342\n",
       "2024-01-01    0.12166\n",
       "2024-02-01    0.12040\n",
       "2024-03-01    0.11895\n",
       "2024-04-01    0.11790\n",
       "2024-05-01    0.11655\n",
       "2024-06-01    0.11555\n",
       "2024-07-01    0.11460\n",
       "2024-08-01    0.11355\n",
       "2024-09-01    0.11290\n",
       "2024-10-01    0.11230\n",
       "2025-01-01    0.11120\n",
       "2025-04-01    0.11095\n",
       "2025-07-01    0.11045\n",
       "2025-10-01    0.11040\n",
       "2026-01-01    0.11030\n",
       "2026-04-01    0.11065\n",
       "2026-07-01    0.11115\n",
       "2026-10-01    0.11140\n",
       "2027-01-01    0.11180\n",
       "2027-04-01    0.11255\n",
       "2027-07-01    0.11295\n",
       "2027-10-01    0.11345\n",
       "2028-01-01    0.11400\n",
       "2028-04-01    0.11330\n",
       "2028-07-01    0.11435\n",
       "2028-10-01    0.11470\n",
       "2029-01-01    0.11550\n",
       "2030-01-01    0.11670\n",
       "2031-01-01    0.11760\n",
       "2032-01-01    0.11790\n",
       "2033-01-01    0.11840\n",
       "2036-01-01    0.11870\n",
       "Name: ÚLT. PREÇO, dtype: float64"
      ]
     },
     "execution_count": 33,
     "metadata": {},
     "output_type": "execute_result"
    }
   ],
   "source": [
    "lista_datas = []\n",
    "\n",
    "for indice in tabela.index:\n",
    "\n",
    "        letra = indice[0]\n",
    "        ano = indice[1:3]\n",
    "\n",
    "        mes = legenda[letra]\n",
    "\n",
    "        data = f\"{mes}-{ano}\"\n",
    "\n",
    "        data = datetime.strptime(data, \"%b-%y\")\n",
    "\n",
    "        lista_datas.append(data)\n",
    "        \n",
    "tabela.index = lista_datas  \n",
    "\n",
    "tabela = tabela/100\n",
    "tabela"
   ]
  },
  {
   "cell_type": "code",
   "execution_count": null,
   "id": "ed75519d",
   "metadata": {},
   "outputs": [],
   "source": []
  },
  {
   "cell_type": "code",
   "execution_count": null,
   "id": "fc1bb28d",
   "metadata": {},
   "outputs": [],
   "source": []
  },
  {
   "cell_type": "code",
   "execution_count": null,
   "id": "8fcc646a",
   "metadata": {},
   "outputs": [],
   "source": []
  }
 ],
 "metadata": {
  "kernelspec": {
   "display_name": "Python 3 (ipykernel)",
   "language": "python",
   "name": "python3"
  },
  "language_info": {
   "codemirror_mode": {
    "name": "ipython",
    "version": 3
   },
   "file_extension": ".py",
   "mimetype": "text/x-python",
   "name": "python",
   "nbconvert_exporter": "python",
   "pygments_lexer": "ipython3",
   "version": "3.11.3"
  }
 },
 "nbformat": 4,
 "nbformat_minor": 5
}
