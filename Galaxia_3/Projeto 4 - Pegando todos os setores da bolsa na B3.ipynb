{
 "cells": [
  {
   "cell_type": "markdown",
   "id": "ced0ec61",
   "metadata": {},
   "source": [
    "# Projeto 4 - Pegando todos os setores da bolsa no site da B3"
   ]
  },
  {
   "cell_type": "code",
   "execution_count": null,
   "id": "e51a3b9d",
   "metadata": {},
   "outputs": [],
   "source": [
    "import pandas as pd\n",
    "from selenium import webdriver\n",
    "from selenium.webdriver.chrome.service import Service\n",
    "from webdriver_manager.chrome import ChromeDriverManager\n",
    "from selenium.webdriver.chrome.options import Options\n",
    "from selenium.webdriver.common.by import By\n",
    "from selenium.webdriver.support import expected_conditions as EC\n",
    "from selenium.webdriver.support.ui import WebDriverWait\n",
    "from datetime import date\n",
    "import zipfile\n",
    "import os"
   ]
  },
  {
   "cell_type": "code",
   "execution_count": null,
   "id": "1551a868",
   "metadata": {},
   "outputs": [],
   "source": [
    "driver = webdriver.Chrome(service=Service(ChromeDriverManager().install()))"
   ]
  },
  {
   "cell_type": "code",
   "execution_count": null,
   "id": "f42dfd8d",
   "metadata": {},
   "outputs": [],
   "source": [
    "url = 'https://www.b3.com.br/pt_br/produtos-e-servicos/negociacao/renda-variavel/empresas-listadas.htm'"
   ]
  },
  {
   "cell_type": "code",
   "execution_count": null,
   "id": "a37ae005",
   "metadata": {},
   "outputs": [],
   "source": [
    "driver.get(url)"
   ]
  },
  {
   "cell_type": "code",
   "execution_count": null,
   "id": "b67a6d9c",
   "metadata": {},
   "outputs": [],
   "source": [
    "local_botao_expandir = '/html/body/app-root/app-companies-home/div/div/div/div/div[2]/div[1]/div/div/a/i'"
   ]
  },
  {
   "cell_type": "code",
   "execution_count": null,
   "id": "8b24857b",
   "metadata": {},
   "outputs": [],
   "source": [
    "botao_expandir = driver.find_element('xpath', local_botao_expandir)"
   ]
  },
  {
   "cell_type": "markdown",
   "id": "29a70fcf",
   "metadata": {},
   "source": [
    "### O site da B3 é só uma casca da antiga BVMF. \n",
    "\n",
    "Nesses casos, precisamos trocar pro iframe que importa. "
   ]
  },
  {
   "cell_type": "code",
   "execution_count": null,
   "id": "7dc3cf92",
   "metadata": {},
   "outputs": [],
   "source": [
    "WebDriverWait(driver, 10).until(\n",
    "        EC.frame_to_be_available_and_switch_to_it((By.ID, \"bvmf_iframe\")))"
   ]
  },
  {
   "cell_type": "code",
   "execution_count": null,
   "id": "58265bf5",
   "metadata": {},
   "outputs": [],
   "source": [
    "botao_expandir = driver.find_element('xpath', local_botao_expandir)"
   ]
  },
  {
   "cell_type": "code",
   "execution_count": null,
   "id": "5042c9a5",
   "metadata": {},
   "outputs": [],
   "source": [
    "#botao_expandir.click()\n",
    "driver.execute_script(\"arguments[0].click();\", botao_expandir)"
   ]
  },
  {
   "cell_type": "code",
   "execution_count": null,
   "id": "43e5bffe",
   "metadata": {},
   "outputs": [],
   "source": [
    "planilha = driver.find_element('xpath', '/html/body/app-root/app-companies-home/div/div/div/div/div[2]/div[2]/div/app-companies-home-filter-classification/form/div[2]/div[3]/div[2]/p/a')\n",
    "\n",
    "driver.execute_script(\"arguments[0].click();\", planilha)\n",
    "\n",
    "#time.sleep(5) #tem que esperar baixar a planilha "
   ]
  },
  {
   "cell_type": "code",
   "execution_count": null,
   "id": "3e744c76",
   "metadata": {},
   "outputs": [],
   "source": [
    "driver.quit()"
   ]
  },
  {
   "cell_type": "markdown",
   "id": "835325e8",
   "metadata": {},
   "source": [
    "### Agora vamos extrair o ZIP"
   ]
  },
  {
   "cell_type": "code",
   "execution_count": null,
   "id": "a0202b3d",
   "metadata": {},
   "outputs": [],
   "source": [
    "caminho_downloads = r'C:\\Users\\lsiqu\\Downloads'"
   ]
  },
  {
   "cell_type": "code",
   "execution_count": null,
   "id": "596fc5c9",
   "metadata": {},
   "outputs": [],
   "source": [
    "arquivo_zip = zipfile.ZipFile(caminho_downloads + r\"\\ClassifSetorial.zip\")\n",
    "\n",
    "for planilha in arquivo_zip.namelist():\n",
    "\n",
    "    setores = pd.read_excel(arquivo_zip.open(planilha), skiprows=6)"
   ]
  },
  {
   "cell_type": "code",
   "execution_count": null,
   "id": "34d50527",
   "metadata": {},
   "outputs": [],
   "source": [
    "arquivo_zip.close()"
   ]
  },
  {
   "cell_type": "code",
   "execution_count": null,
   "id": "7c029000",
   "metadata": {},
   "outputs": [],
   "source": [
    "os.remove(caminho_downloads + r\"\\ClassifSetorial.zip\")"
   ]
  },
  {
   "cell_type": "code",
   "execution_count": null,
   "id": "875b9b0e",
   "metadata": {
    "scrolled": true
   },
   "outputs": [],
   "source": [
    "setores"
   ]
  },
  {
   "cell_type": "code",
   "execution_count": null,
   "id": "8da04bdb",
   "metadata": {},
   "outputs": [],
   "source": [
    "setores['SUBSETOR'] = setores['SUBSETOR'].ffill()\n",
    "setores = setores.dropna(subset = ['SEGMENTO'])\n",
    "setores = setores[['SUBSETOR', 'SEGMENTO', 'LISTAGEM']]\n",
    "\n",
    "setores"
   ]
  },
  {
   "cell_type": "code",
   "execution_count": null,
   "id": "6b985ddf",
   "metadata": {},
   "outputs": [],
   "source": [
    "setores = setores.dropna()\n",
    "setores.columns = ['SETOR', 'NOME', 'TICKER']\n",
    "setores"
   ]
  },
  {
   "cell_type": "code",
   "execution_count": null,
   "id": "6f87e512",
   "metadata": {},
   "outputs": [],
   "source": [
    "setores.to_csv(\"setores.csv\", index = False)"
   ]
  },
  {
   "cell_type": "code",
   "execution_count": null,
   "id": "a780eed4",
   "metadata": {},
   "outputs": [],
   "source": []
  },
  {
   "cell_type": "code",
   "execution_count": null,
   "id": "c7c52844",
   "metadata": {},
   "outputs": [],
   "source": []
  },
  {
   "cell_type": "code",
   "execution_count": null,
   "id": "86b81874",
   "metadata": {},
   "outputs": [],
   "source": []
  },
  {
   "cell_type": "code",
   "execution_count": null,
   "id": "297de8a5",
   "metadata": {},
   "outputs": [],
   "source": []
  },
  {
   "cell_type": "code",
   "execution_count": null,
   "id": "2b1ebc67",
   "metadata": {},
   "outputs": [],
   "source": []
  },
  {
   "cell_type": "code",
   "execution_count": null,
   "id": "09e44b84",
   "metadata": {},
   "outputs": [],
   "source": []
  },
  {
   "cell_type": "code",
   "execution_count": null,
   "id": "8115322d",
   "metadata": {},
   "outputs": [],
   "source": []
  },
  {
   "cell_type": "code",
   "execution_count": null,
   "id": "9a23bc0f",
   "metadata": {},
   "outputs": [],
   "source": []
  },
  {
   "cell_type": "code",
   "execution_count": null,
   "id": "5390e5d3",
   "metadata": {},
   "outputs": [],
   "source": []
  },
  {
   "cell_type": "code",
   "execution_count": null,
   "id": "3ed43681",
   "metadata": {},
   "outputs": [],
   "source": []
  },
  {
   "cell_type": "code",
   "execution_count": null,
   "id": "ca7d58ea",
   "metadata": {},
   "outputs": [],
   "source": []
  },
  {
   "cell_type": "code",
   "execution_count": null,
   "id": "c385778f",
   "metadata": {},
   "outputs": [],
   "source": []
  },
  {
   "cell_type": "code",
   "execution_count": null,
   "id": "cd4a48f4",
   "metadata": {},
   "outputs": [],
   "source": []
  }
 ],
 "metadata": {
  "kernelspec": {
   "display_name": "Python 3 (ipykernel)",
   "language": "python",
   "name": "python3"
  },
  "language_info": {
   "codemirror_mode": {
    "name": "ipython",
    "version": 3
   },
   "file_extension": ".py",
   "mimetype": "text/x-python",
   "name": "python",
   "nbconvert_exporter": "python",
   "pygments_lexer": "ipython3",
   "version": "3.11.3"
  }
 },
 "nbformat": 4,
 "nbformat_minor": 5
}
