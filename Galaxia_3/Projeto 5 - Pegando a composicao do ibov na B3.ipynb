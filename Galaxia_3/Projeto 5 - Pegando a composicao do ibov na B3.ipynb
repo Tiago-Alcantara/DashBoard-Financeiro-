{
 "cells": [
  {
   "cell_type": "markdown",
   "id": "87d06324",
   "metadata": {},
   "source": [
    "# Projeto 5 - Composição do Ibovespa na B3"
   ]
  },
  {
   "cell_type": "code",
   "execution_count": null,
   "id": "d888ff09",
   "metadata": {},
   "outputs": [],
   "source": [
    "import pandas as pd\n",
    "from selenium import webdriver\n",
    "from selenium.webdriver.chrome.service import Service\n",
    "from webdriver_manager.chrome import ChromeDriverManager\n",
    "from selenium.webdriver.chrome.options import Options\n",
    "from selenium.webdriver.common.by import By\n",
    "from selenium.webdriver.support import expected_conditions as EC\n",
    "from selenium.webdriver.support.ui import WebDriverWait\n",
    "import time\n",
    "from datetime import date\n",
    "import os"
   ]
  },
  {
   "cell_type": "code",
   "execution_count": null,
   "id": "9ce657ca",
   "metadata": {},
   "outputs": [],
   "source": [
    "driver = webdriver.Chrome(service=Service(ChromeDriverManager().install()))\n",
    "\n",
    "url = 'https://www.b3.com.br/pt_br/market-data-e-indices/indices/indices-amplos/indice-ibovespa-ibovespa-composicao-da-carteira.htm'\n",
    "\n",
    "driver.get(url)"
   ]
  },
  {
   "cell_type": "code",
   "execution_count": null,
   "id": "a2403b5c",
   "metadata": {},
   "outputs": [],
   "source": [
    "WebDriverWait(driver, 10).until(\n",
    "    EC.frame_to_be_available_and_switch_to_it((By.ID, \"bvmf_iframe\")))\n",
    "\n",
    "planilha = driver.find_element(\"xpath\", '//*[@id=\"divContainerIframeB3\"]/div/div[1]/form/div[2]/div/div[2]/div/div/div[1]/div[2]/p/a')\n",
    "\n",
    "driver.execute_script(\"arguments[0].click();\", planilha)\n",
    "\n",
    "time.sleep(5)\n",
    "\n",
    "driver.quit()"
   ]
  },
  {
   "cell_type": "code",
   "execution_count": null,
   "id": "24fd13dc",
   "metadata": {},
   "outputs": [],
   "source": [
    "dia = date.today().day\n",
    "mes = date.today().month\n",
    "ano = date.today().year"
   ]
  },
  {
   "cell_type": "code",
   "execution_count": null,
   "id": "176c6a84",
   "metadata": {},
   "outputs": [],
   "source": [
    "if dia < 10:\n",
    "\n",
    "    dia = \"0\" + str(dia)\n",
    "\n",
    "if mes < 10:\n",
    "\n",
    "    mes = \"0\" + str(mes)\n",
    "\n",
    "ano = str(ano)[2:]\n",
    "\n",
    "print(dia, mes, ano)"
   ]
  },
  {
   "cell_type": "code",
   "execution_count": null,
   "id": "f89bcda4",
   "metadata": {
    "scrolled": true
   },
   "outputs": [],
   "source": [
    "caminho_downloads = r'C:\\Users\\lsiqu\\Downloads'\n",
    "\n",
    "ibovespa_comp = pd.read_csv(caminho_downloads + fr\"\\IBOVDia_{dia}-{mes}-{ano}.csv\", sep = \";\", \n",
    "                        skipfooter = 2, encoding = 'ISO-8859-1', engine = 'python', decimal = ',',\n",
    "                       thousands = \".\", header = 1, index_col = False)\n",
    "\n",
    "ibovespa_comp"
   ]
  },
  {
   "cell_type": "code",
   "execution_count": null,
   "id": "d0e8cbfe",
   "metadata": {},
   "outputs": [],
   "source": [
    "os.remove(caminho_downloads + fr\"\\IBOVDia_{dia}-{mes}-{ano}.csv\")\n",
    "\n",
    "ibovespa_comp.columns = ['codigos', 'nome', 'classe', 'qtd', 'part']\n",
    "\n",
    "ibovespa_comp"
   ]
  },
  {
   "cell_type": "code",
   "execution_count": null,
   "id": "e31dd2af",
   "metadata": {},
   "outputs": [],
   "source": [
    "ibovespa_comp.to_csv(\"comp_ibov.csv\", index = False)"
   ]
  },
  {
   "cell_type": "code",
   "execution_count": null,
   "id": "b0ec3481",
   "metadata": {},
   "outputs": [],
   "source": []
  },
  {
   "cell_type": "code",
   "execution_count": null,
   "id": "95312563",
   "metadata": {},
   "outputs": [],
   "source": []
  },
  {
   "cell_type": "code",
   "execution_count": null,
   "id": "569d5a9d",
   "metadata": {},
   "outputs": [],
   "source": []
  },
  {
   "cell_type": "code",
   "execution_count": null,
   "id": "6303d3f4",
   "metadata": {},
   "outputs": [],
   "source": []
  },
  {
   "cell_type": "code",
   "execution_count": null,
   "id": "6f8b6f16",
   "metadata": {},
   "outputs": [],
   "source": []
  },
  {
   "cell_type": "code",
   "execution_count": null,
   "id": "43da234c",
   "metadata": {},
   "outputs": [],
   "source": []
  },
  {
   "cell_type": "code",
   "execution_count": null,
   "id": "59b9153d",
   "metadata": {},
   "outputs": [],
   "source": []
  }
 ],
 "metadata": {
  "kernelspec": {
   "display_name": "Python 3 (ipykernel)",
   "language": "python",
   "name": "python3"
  },
  "language_info": {
   "codemirror_mode": {
    "name": "ipython",
    "version": 3
   },
   "file_extension": ".py",
   "mimetype": "text/x-python",
   "name": "python",
   "nbconvert_exporter": "python",
   "pygments_lexer": "ipython3",
   "version": "3.11.3"
  }
 },
 "nbformat": 4,
 "nbformat_minor": 5
}
