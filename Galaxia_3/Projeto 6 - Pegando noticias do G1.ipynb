{
 "cells": [
  {
   "cell_type": "markdown",
   "id": "dcb7b5e0",
   "metadata": {},
   "source": [
    "# Projeto 6 - Pegando notícias do G1\n",
    "\n",
    "Usaremos o Selenium + BS4 pra sites mais complexos."
   ]
  },
  {
   "cell_type": "code",
   "execution_count": null,
   "id": "08e8ee2b",
   "metadata": {},
   "outputs": [],
   "source": [
    "from selenium import webdriver\n",
    "from selenium.webdriver.chrome.service import Service\n",
    "from webdriver_manager.chrome import ChromeDriverManager\n",
    "import pandas as pd\n",
    "from bs4 import BeautifulSoup"
   ]
  },
  {
   "cell_type": "code",
   "execution_count": null,
   "id": "157bf0e6",
   "metadata": {},
   "outputs": [],
   "source": [
    "driver = webdriver.Chrome(service=Service(ChromeDriverManager().install()))\n",
    "\n",
    "url = 'https://g1.globo.com/tecnologia/'\n",
    "\n",
    "driver.get(url)\n",
    "\n",
    "todas_noticias = driver.find_element(\"xpath\", '/html') \n",
    "\n",
    "html_not = todas_noticias.get_attribute('outerHTML')\n",
    "\n",
    "driver.quit()"
   ]
  },
  {
   "cell_type": "code",
   "execution_count": null,
   "id": "a87ecc2d",
   "metadata": {},
   "outputs": [],
   "source": [
    "soup = BeautifulSoup(html_not, 'html.parser')\n",
    "\n",
    "caixas_de_noticias = soup.find_all(\"div\", class_ = 'feed-post bstn-item-shape type-materia')"
   ]
  },
  {
   "cell_type": "code",
   "execution_count": null,
   "id": "64353a0d",
   "metadata": {},
   "outputs": [],
   "source": [
    "df_noticias = pd.DataFrame(columns=['manchete', 'subtopico', 'link', 'topico', 'jornal'], \n",
    "                           index=[0, 1, 2, 3, 4, 5])"
   ]
  },
  {
   "cell_type": "code",
   "execution_count": null,
   "id": "8e16ea9a",
   "metadata": {},
   "outputs": [],
   "source": [
    "for i, noticia in enumerate(caixas_de_noticias):\n",
    "\n",
    "        manchete = noticia.find(\"p\", elementtiming = 'text-csr').text\n",
    "        link =  noticia.find(\"h2\").a['href']\n",
    "\n",
    "        df_noticias.loc[i, 'subtopico'] = \"Economia\"\n",
    "        df_noticias.loc[i, 'manchete'] = manchete\n",
    "        df_noticias.loc[i, 'link'] = link\n",
    "        df_noticias.loc[i, 'topico'] = 'tech'\n",
    "        df_noticias.loc[i, 'jornal'] = 'g1'\n",
    "\n",
    "        if i == 5:\n",
    "             \n",
    "            break\n",
    "            \n",
    "            "
   ]
  },
  {
   "cell_type": "code",
   "execution_count": null,
   "id": "4f537ee5",
   "metadata": {},
   "outputs": [],
   "source": [
    "df_noticias"
   ]
  },
  {
   "cell_type": "code",
   "execution_count": null,
   "id": "a637aa13",
   "metadata": {},
   "outputs": [],
   "source": []
  }
 ],
 "metadata": {
  "kernelspec": {
   "display_name": "Python 3 (ipykernel)",
   "language": "python",
   "name": "python3"
  },
  "language_info": {
   "codemirror_mode": {
    "name": "ipython",
    "version": 3
   },
   "file_extension": ".py",
   "mimetype": "text/x-python",
   "name": "python",
   "nbconvert_exporter": "python",
   "pygments_lexer": "ipython3",
   "version": "3.11.3"
  }
 },
 "nbformat": 4,
 "nbformat_minor": 5
}
