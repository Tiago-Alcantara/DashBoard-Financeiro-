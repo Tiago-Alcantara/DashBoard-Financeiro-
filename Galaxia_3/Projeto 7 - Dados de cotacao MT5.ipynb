{
 "cells": [
  {
   "cell_type": "markdown",
   "id": "c50e7da2",
   "metadata": {},
   "source": [
    "# Projeto 7 - Dados de cotação no MT5"
   ]
  },
  {
   "cell_type": "code",
   "execution_count": null,
   "id": "d5f03c87",
   "metadata": {},
   "outputs": [],
   "source": [
    "import pandas as pd\n",
    "import MetaTrader5 as mt5\n",
    "import pandas as pd\n",
    "import datetime\n",
    "import pytz"
   ]
  },
  {
   "cell_type": "markdown",
   "id": "d66801bf",
   "metadata": {},
   "source": [
    "## Documentação\n",
    "\n",
    "https://www.mql5.com/en/docs/python_metatrader5"
   ]
  },
  {
   "cell_type": "code",
   "execution_count": null,
   "id": "99fa844d",
   "metadata": {},
   "outputs": [],
   "source": [
    "mt5.initialize()"
   ]
  },
  {
   "cell_type": "code",
   "execution_count": null,
   "id": "4716285e",
   "metadata": {},
   "outputs": [],
   "source": [
    "mt5.symbol_select('ABEV3')"
   ]
  },
  {
   "cell_type": "markdown",
   "id": "7fe8117b",
   "metadata": {},
   "source": [
    "### Selecionando todas as ações"
   ]
  },
  {
   "cell_type": "code",
   "execution_count": null,
   "id": "d2a863c8",
   "metadata": {},
   "outputs": [],
   "source": [
    "simbolos = mt5.symbols_get()\n",
    "simbolos"
   ]
  },
  {
   "cell_type": "code",
   "execution_count": null,
   "id": "57ac48c3",
   "metadata": {},
   "outputs": [],
   "source": [
    "tickers = [simbolo.name for simbolo in simbolos]\n",
    "tickers = sorted(tickers, reverse=True)\n",
    "\n",
    "tickers"
   ]
  },
  {
   "cell_type": "code",
   "execution_count": null,
   "id": "530e2fb1",
   "metadata": {},
   "outputs": [],
   "source": [
    "acoes = []\n",
    "for ticker in tickers:\n",
    "    \n",
    "    try:\n",
    "        \n",
    "        int(ticker[3]) #a quarta letra tem que ser uma string, não um número\n",
    "        \n",
    "    except:\n",
    "\n",
    "        final_ticker = ticker[4:]\n",
    "\n",
    "        if len(final_ticker) == 2:\n",
    "\n",
    "            if final_ticker == \"11\":\n",
    "\n",
    "                if (ticker[0:4] + \"3\") in acoes or (ticker[0:4] + \"4\") in acoes:\n",
    "\n",
    "                    acoes.append(ticker)\n",
    "\n",
    "        if len(final_ticker) == 1:  \n",
    "\n",
    "            if final_ticker == \"3\" or final_ticker == \"4\":\n",
    "\n",
    "                acoes.append(ticker)"
   ]
  },
  {
   "cell_type": "code",
   "execution_count": null,
   "id": "8730c9b7",
   "metadata": {},
   "outputs": [],
   "source": [
    "len(acoes)"
   ]
  },
  {
   "cell_type": "code",
   "execution_count": null,
   "id": "74de1867",
   "metadata": {},
   "outputs": [],
   "source": [
    "for acao in acoes:\n",
    "    \n",
    "    mt5.symbol_select(acao)"
   ]
  },
  {
   "cell_type": "markdown",
   "id": "16304aa1",
   "metadata": {},
   "source": [
    "### Pegando o retorno e o preço de uma ação ao vivo"
   ]
  },
  {
   "cell_type": "code",
   "execution_count": null,
   "id": "15e5caed",
   "metadata": {},
   "outputs": [],
   "source": [
    "while True:\n",
    "    ticker = 'WEGE3'\n",
    "\n",
    "    retorno = mt5.symbol_info(ticker).price_change\n",
    "    fechamento = mt5.symbol_info(ticker).last\n",
    "\n",
    "    print(retorno, fechamento)\n",
    "    time.sleep(1)"
   ]
  },
  {
   "cell_type": "markdown",
   "id": "ab5c36ae",
   "metadata": {},
   "source": [
    "### Pegando o histórico de cotações"
   ]
  },
  {
   "cell_type": "code",
   "execution_count": null,
   "id": "204e72a3",
   "metadata": {},
   "outputs": [],
   "source": [
    "acao = 'WEGE3'\n",
    "timezone = pytz.timezone(\"Brazil/West\")\n",
    "data_inicial = (datetime.datetime.now(tz = timezone) - datetime.timedelta(days= 1095))\n",
    "data_final = datetime.datetime.now(tz = timezone)"
   ]
  },
  {
   "cell_type": "code",
   "execution_count": null,
   "id": "94629c42",
   "metadata": {},
   "outputs": [],
   "source": [
    "cotacoes = mt5.copy_rates_range(acao, mt5.TIMEFRAME_D1, data_inicial, data_final)\n",
    "\n",
    "cotacoes = pd.DataFrame(cotacoes)\n",
    "cotacoes"
   ]
  },
  {
   "cell_type": "code",
   "execution_count": null,
   "id": "592be351",
   "metadata": {},
   "outputs": [],
   "source": [
    "cotacoes = cotacoes[['time', 'open', 'high', 'low', 'close']]\n",
    "cotacoes['time']=pd.to_datetime(cotacoes['time'], unit='s')\n",
    "cotacoes['ticker'] = acao\n",
    "\n",
    "cotacoes"
   ]
  },
  {
   "cell_type": "code",
   "execution_count": null,
   "id": "3492979e",
   "metadata": {},
   "outputs": [],
   "source": []
  },
  {
   "cell_type": "code",
   "execution_count": null,
   "id": "a6df4394",
   "metadata": {},
   "outputs": [],
   "source": []
  },
  {
   "cell_type": "code",
   "execution_count": null,
   "id": "c67801f8",
   "metadata": {},
   "outputs": [],
   "source": []
  },
  {
   "cell_type": "code",
   "execution_count": null,
   "id": "cdb85f1e",
   "metadata": {},
   "outputs": [],
   "source": []
  },
  {
   "cell_type": "code",
   "execution_count": null,
   "id": "8de92bc0",
   "metadata": {},
   "outputs": [],
   "source": []
  },
  {
   "cell_type": "code",
   "execution_count": null,
   "id": "e92201d0",
   "metadata": {},
   "outputs": [],
   "source": []
  },
  {
   "cell_type": "code",
   "execution_count": null,
   "id": "c7388a3a",
   "metadata": {},
   "outputs": [],
   "source": []
  },
  {
   "cell_type": "code",
   "execution_count": null,
   "id": "ccad53d0",
   "metadata": {},
   "outputs": [],
   "source": []
  }
 ],
 "metadata": {
  "kernelspec": {
   "display_name": "Python 3 (ipykernel)",
   "language": "python",
   "name": "python3"
  },
  "language_info": {
   "codemirror_mode": {
    "name": "ipython",
    "version": 3
   },
   "file_extension": ".py",
   "mimetype": "text/x-python",
   "name": "python",
   "nbconvert_exporter": "python",
   "pygments_lexer": "ipython3",
   "version": "3.11.3"
  }
 },
 "nbformat": 4,
 "nbformat_minor": 5
}
